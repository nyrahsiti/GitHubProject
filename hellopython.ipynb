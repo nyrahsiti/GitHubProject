{
 "cells": [
  {
   "cell_type": "code",
   "execution_count": 3,
   "id": "d035dee9-059d-48fc-9198-a80bb38d59d3",
   "metadata": {},
   "outputs": [
    {
     "name": "stdout",
     "output_type": "stream",
     "text": [
      "Hello WOrld\n"
     ]
    }
   ],
   "source": [
    "print(\"Hello WOrld\")"
   ]
  },
  {
   "cell_type": "markdown",
   "id": "5a60304e-64d1-47a7-9356-1df401ec25cf",
   "metadata": {},
   "source": [
    "# My first Hello World in Python"
   ]
  },
  {
   "cell_type": "code",
   "execution_count": 7,
   "id": "805b3917-2d5c-4757-8c1a-444ff1c01971",
   "metadata": {},
   "outputs": [
    {
     "ename": "IndentationError",
     "evalue": "expected an indented block after 'else' statement on line 5 (3135326827.py, line 6)",
     "output_type": "error",
     "traceback": [
      "\u001b[0;36m  Cell \u001b[0;32mIn[7], line 6\u001b[0;36m\u001b[0m\n\u001b[0;31m    print(\"No\")\u001b[0m\n\u001b[0m    ^\u001b[0m\n\u001b[0;31mIndentationError\u001b[0m\u001b[0;31m:\u001b[0m expected an indented block after 'else' statement on line 5\n"
     ]
    }
   ],
   "source": [
    "x = 5\n",
    "\n",
    "if x < 3:\n",
    "    print(\"YES\")\n",
    "else:\n",
    "print(\"No\")"
   ]
  },
  {
   "cell_type": "code",
   "execution_count": 8,
   "id": "2d8d8e6c-3ed2-4525-927c-33f8a343cbe5",
   "metadata": {},
   "outputs": [
    {
     "name": "stdout",
     "output_type": "stream",
     "text": [
      "my comments\n"
     ]
    }
   ],
   "source": [
    "\"\"\"\n",
    "This is first comment\n",
    "This is my second comment\n",
    "\"\"\"\n",
    "\n",
    "print(\"my comments\")"
   ]
  },
  {
   "cell_type": "code",
   "execution_count": 9,
   "id": "7088be37-6191-4264-8250-c935a0ba9d24",
   "metadata": {},
   "outputs": [],
   "source": [
    "#integer\n",
    "age = 25\n",
    "\n",
    "#float\n",
    "temperature = 25.5\n",
    "\n",
    "#string\n",
    "greet = \"Hello World\""
   ]
  },
  {
   "cell_type": "code",
   "execution_count": 11,
   "id": "04122cc1-c20b-4ffc-98ff-ea40f0b6844c",
   "metadata": {},
   "outputs": [
    {
     "name": "stdout",
     "output_type": "stream",
     "text": [
      "Age:  25\n"
     ]
    }
   ],
   "source": [
    "print(\"Age: \", age)"
   ]
  },
  {
   "cell_type": "code",
   "execution_count": 12,
   "id": "45baf19d-f1fb-4012-991f-06fd9ca729ec",
   "metadata": {},
   "outputs": [
    {
     "name": "stdout",
     "output_type": "stream",
     "text": [
      "Temperature:  25.5\n"
     ]
    }
   ],
   "source": [
    "print(\"Temperature: \", temperature)             "
   ]
  },
  {
   "cell_type": "code",
   "execution_count": 13,
   "id": "c1380006-f612-457b-aaaa-6ccb39b97fd4",
   "metadata": {},
   "outputs": [
    {
     "name": "stdout",
     "output_type": "stream",
     "text": [
      "Greet:  Hello World\n"
     ]
    }
   ],
   "source": [
    "print(\"Greet: \", greet)"
   ]
  },
  {
   "cell_type": "code",
   "execution_count": 14,
   "id": "489e2b60-2631-4199-af9c-fc33d3923cc9",
   "metadata": {},
   "outputs": [
    {
     "name": "stdout",
     "output_type": "stream",
     "text": [
      "<class 'int'>\n",
      "<class 'float'>\n",
      "<class 'str'>\n"
     ]
    }
   ],
   "source": [
    "print(type(age))\n",
    "print(type(temperature))\n",
    "print(type(greet))"
   ]
  },
  {
   "cell_type": "code",
   "execution_count": 15,
   "id": "8400cac5-64d7-460b-a4e0-d5240f300358",
   "metadata": {},
   "outputs": [
    {
     "name": "stdin",
     "output_type": "stream",
     "text": [
      "HOw old are you 32\n",
      "How tall are you? 159\n",
      "HOw much do you weight? 70\n"
     ]
    },
    {
     "name": "stdout",
     "output_type": "stream",
     "text": [
      "So your age is 32, height is 159, weight is 70\n"
     ]
    }
   ],
   "source": [
    "age = input(\"HOw old are you\")\n",
    "height = input(\"How tall are you?\")\n",
    "weight = input(\"HOw much do you weight?\")\n",
    "\n",
    "print(f\"So your age is {age}, height is {height}, weight is {weight}\")"
   ]
  },
  {
   "cell_type": "code",
   "execution_count": 16,
   "id": "c526201f-9b01-4401-8002-72b6c20765c4",
   "metadata": {},
   "outputs": [
    {
     "name": "stdout",
     "output_type": "stream",
     "text": [
      "apple\n"
     ]
    }
   ],
   "source": [
    "fruits = [\"apple\", \"banana\", \"cherry\"]\n",
    "print(fruits[0])"
   ]
  },
  {
   "cell_type": "code",
   "execution_count": 17,
   "id": "81236fdc-847b-440d-bde0-dbefbdd75fae",
   "metadata": {},
   "outputs": [
    {
     "name": "stdout",
     "output_type": "stream",
     "text": [
      "cherry\n"
     ]
    }
   ],
   "source": [
    "print(fruits[2])\n"
   ]
  },
  {
   "cell_type": "markdown",
   "id": "ef838bfa-cb37-4c17-a61c-6d0428f7c3ce",
   "metadata": {},
   "source": [
    "#Tuples"
   ]
  },
  {
   "cell_type": "code",
   "execution_count": 19,
   "id": "0323aacb-b844-4c3b-9bb7-bb3cf75e73fc",
   "metadata": {},
   "outputs": [
    {
     "name": "stdout",
     "output_type": "stream",
     "text": [
      "10\n"
     ]
    }
   ],
   "source": [
    "coordinates = (10,20)\n",
    "print(coordinates[0])"
   ]
  },
  {
   "cell_type": "code",
   "execution_count": 20,
   "id": "356fecfa-9181-4305-a514-b8502c0e3cc3",
   "metadata": {},
   "outputs": [
    {
     "name": "stdout",
     "output_type": "stream",
     "text": [
      "20\n"
     ]
    }
   ],
   "source": [
    "print(coordinates[1])"
   ]
  },
  {
   "cell_type": "code",
   "execution_count": 21,
   "id": "67e9407d-83d4-4202-a8d0-85e60cf77b6c",
   "metadata": {},
   "outputs": [
    {
     "name": "stdout",
     "output_type": "stream",
     "text": [
      "Alice\n"
     ]
    }
   ],
   "source": [
    "person = {\"name\": \"Alice\", \"age\": 25}\n",
    "print(person[\"name\"])"
   ]
  },
  {
   "cell_type": "code",
   "execution_count": 22,
   "id": "c19ddda8-ea61-42fe-b1c0-59b787fd0a9c",
   "metadata": {},
   "outputs": [
    {
     "name": "stdout",
     "output_type": "stream",
     "text": [
      "{'name': 'Alice', 'age': 26}\n"
     ]
    }
   ],
   "source": [
    "person[\"age\"] = 26\n",
    "print(person)"
   ]
  },
  {
   "cell_type": "code",
   "execution_count": 23,
   "id": "7d2a3f9d-f365-4567-bda1-3eb1648f8fde",
   "metadata": {},
   "outputs": [
    {
     "name": "stdout",
     "output_type": "stream",
     "text": [
      "apple\n",
      "banana\n",
      "cherry\n"
     ]
    }
   ],
   "source": [
    "for x in fruits:\n",
    "    print(x)"
   ]
  },
  {
   "cell_type": "markdown",
   "id": "d0f95f22-0980-43ae-a273-d539148c1da5",
   "metadata": {},
   "source": [
    "# Function\n"
   ]
  },
  {
   "cell_type": "code",
   "execution_count": 28,
   "id": "b264f530-c531-4cc0-8d4f-25164321c4a3",
   "metadata": {},
   "outputs": [
    {
     "name": "stdout",
     "output_type": "stream",
     "text": [
      "17\n",
      "27\n",
      "48\n"
     ]
    }
   ],
   "source": [
    "def multiply(x,y):\n",
    "    return 5 * x + y\n",
    "print(multiply(3,2))\n",
    "print(multiply(5,2)) \n",
    "print(multiply(9,3))"
   ]
  },
  {
   "cell_type": "code",
   "execution_count": null,
   "id": "c0dbfc00-81e2-4f53-96f8-7df2d5973671",
   "metadata": {},
   "outputs": [],
   "source": []
  },
  {
   "cell_type": "code",
   "execution_count": null,
   "id": "b8e0263e-e052-451f-a4b5-0ef585a19172",
   "metadata": {},
   "outputs": [],
   "source": []
  }
 ],
 "metadata": {
  "kernelspec": {
   "display_name": "Python 3 (ipykernel)",
   "language": "python",
   "name": "python3"
  },
  "language_info": {
   "codemirror_mode": {
    "name": "ipython",
    "version": 3
   },
   "file_extension": ".py",
   "mimetype": "text/x-python",
   "name": "python",
   "nbconvert_exporter": "python",
   "pygments_lexer": "ipython3",
   "version": "3.10.12"
  }
 },
 "nbformat": 4,
 "nbformat_minor": 5
}
